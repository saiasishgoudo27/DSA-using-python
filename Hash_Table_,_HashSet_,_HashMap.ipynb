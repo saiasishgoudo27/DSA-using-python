{
  "nbformat": 4,
  "nbformat_minor": 0,
  "metadata": {
    "colab": {
      "provenance": []
    },
    "kernelspec": {
      "name": "python3",
      "display_name": "Python 3"
    },
    "language_info": {
      "name": "python"
    }
  },
  "cells": [
    {
      "cell_type": "markdown",
      "source": [
        "#Hash Table :\n",
        "**Real-time example: Imagine a library where books are stored based on their ISBN numbers. The ISBN number is the key, and the book details are the value. The hash function maps the ISBN number to a specific shelf in the library.**\n"
      ],
      "metadata": {
        "id": "XR4vjzHlhGGB"
      }
    },
    {
      "cell_type": "code",
      "execution_count": null,
      "metadata": {
        "id": "fq5ZExlxK172",
        "colab": {
          "base_uri": "https://localhost:8080/"
        },
        "outputId": "cd0ec4b0-791d-41f7-d8ce-80ba7801c10e"
      },
      "outputs": [
        {
          "output_type": "stream",
          "name": "stdout",
          "text": [
            "411:  Young Boy Story\n",
            "233:  The Power\n"
          ]
        }
      ],
      "source": [
        "class HashTable:\n",
        "  def __init__(self):\n",
        "    self.table = [[] for i in range(10)]\n",
        "  def HashFunction(self,key):\n",
        "    return key%10\n",
        "  def insert(self,key,val):\n",
        "    index = self.HashFunction(key)\n",
        "    self.table[index].append((key,val))\n",
        "  def get(self,key):\n",
        "    index = self.HashFunction(key)\n",
        "    for k,v in self.table[index]:\n",
        "      if(k==key):\n",
        "        return v\n",
        "    return None\n",
        "\n",
        "obj = HashTable()\n",
        "obj.insert(123,\"The Mind\")\n",
        "obj.insert(233,\"The Power\")\n",
        "obj.insert(411,\"Young Boy Story\")\n",
        "print(\"411\"\": \",obj.get(411))\n",
        "print(\"233\"\": \",obj.get(233))"
      ]
    },
    {
      "cell_type": "markdown",
      "source": [
        "#Hash Set\n",
        "**A hash set is a collection of unique elements. It uses a hash table internally to ensure that no duplicate elements are stored.**\n",
        "\n",
        "**Real-time example:\n",
        "    Think of a guest list for a party. Each guest's name is unique, and you want to ensure no duplicate names are added to the list.**"
      ],
      "metadata": {
        "id": "D3Rs2dmIhZqg"
      }
    },
    {
      "cell_type": "code",
      "source": [
        "class Hashset:\n",
        "  def __init__(self):\n",
        "    self.table = [[] for i in range(10)]\n",
        "  def HashFunction(self,val):\n",
        "    return hash(val)%10\n",
        "  def add(self,val):\n",
        "    index = self.HashFunction(val)\n",
        "    if(val not in self.table[index]):\n",
        "      self.table[index].append(val)\n",
        "    else:\n",
        "      print(\"Duplicates are not added\")\n",
        "  def contains(self,val):\n",
        "    index = self.HashFunction(val)\n",
        "    if(val in self.table[index]):\n",
        "      return True\n",
        "    else:\n",
        "      return False\n",
        "  def remove(self,val):\n",
        "    index = self.HashFunction(val)\n",
        "    if(val in self.table[index]):\n",
        "      self.table[index].remove(val)\n",
        "      print(\"removed\")\n",
        "    else:\n",
        "      print(\"Not Exist\")\n",
        "  def print_table(self):\n",
        "    print(self.table)\n",
        "\n",
        "h = Hashset()\n",
        "h.add(\"Sai\")\n",
        "h.add(\"SA\")\n",
        "h.add(\"Suiii\")\n",
        "h.add(\"Hello\")\n",
        "h.print_table()\n",
        "h.contains(\"SA\")\n",
        "h.remove(\"Hi\")\n",
        "h.remove(\"Hello\")\n",
        "h.print_table()"
      ],
      "metadata": {
        "colab": {
          "base_uri": "https://localhost:8080/"
        },
        "id": "Tq52WXFXvIC4",
        "outputId": "bc77bd8f-eb88-4e87-a9da-00f5dc219c2d"
      },
      "execution_count": null,
      "outputs": [
        {
          "output_type": "stream",
          "name": "stdout",
          "text": [
            "[[], [], ['Sai'], ['Suiii'], ['Hello'], [], [], [], ['SA'], []]\n",
            "Not Exist\n",
            "removed\n",
            "[[], [], ['Sai'], ['Suiii'], [], [], [], [], ['SA'], []]\n"
          ]
        }
      ]
    },
    {
      "cell_type": "markdown",
      "source": [
        "#Hash Map\n",
        "**A hash map is similar to a hash table but is often used in programming languages like Java. It stores key-value pairs and allows for efficient retrieval of values based on keys.**\n",
        "\n",
        "**Real-time example: Consider a phone book where names are keys and phone numbers are values. You can quickly find someone's phone number by looking up their name.**"
      ],
      "metadata": {
        "id": "TekWq8c2iOg4"
      }
    },
    {
      "cell_type": "code",
      "source": [
        "class HashMap:\n",
        "  def __init__(self):\n",
        "    self.map = {}\n",
        "  def push(self,key,val):\n",
        "    self.map[key] = val\n",
        "  def get(self,val):\n",
        "    return self.map.get(val)\n",
        "  def print_list(self):\n",
        "    print(self.map)\n",
        "\n",
        "hm = HashMap()\n",
        "hm.push(\"Sai\",9381286253)\n",
        "hm.push(\"Asish\",1234567798)\n",
        "hm.print_list()\n",
        "print(hm.get(\"Sai\"))"
      ],
      "metadata": {
        "colab": {
          "base_uri": "https://localhost:8080/"
        },
        "id": "5KyRGTKu3Syo",
        "outputId": "ef379fc6-ab25-4e02-d868-5266b833185a"
      },
      "execution_count": null,
      "outputs": [
        {
          "output_type": "stream",
          "name": "stdout",
          "text": [
            "{'Sai': 9381286253, 'Asish': 1234567798}\n",
            "9381286253\n"
          ]
        }
      ]
    },
    {
      "cell_type": "code",
      "source": [],
      "metadata": {
        "id": "Fb4RGB8n-lQN"
      },
      "execution_count": null,
      "outputs": []
    }
  ]
}